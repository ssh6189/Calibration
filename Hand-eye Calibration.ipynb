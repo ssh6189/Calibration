{
 "cells": [
  {
   "cell_type": "code",
   "execution_count": 1,
   "metadata": {},
   "outputs": [],
   "source": [
    "import numpy as np\n",
    "import cv2\n",
    "import glob\n",
    "import matplotlib.pyplot as plt\n",
    "import math\n",
    "\n",
    "# termination criteria\n",
    "# cv2.TERM_CRITERIA_EPS : 정해둔 오차범위내에 다다르면, 알고리즘을 멈춘다.\n",
    "# cv2.TERM_CRITERIA_MAX_ITER : 지정한 횟수에 다다르면, 알고리즘을 멈춘다.\n",
    "#(알고리즘 제동조건, 횟수, 오차범위)\n",
    "\n",
    "criteria = (cv2.TERM_CRITERIA_EPS + cv2.TERM_CRITERIA_MAX_ITER, 30, 0.01)\n",
    "# prepare object points, like (0,0,0), (1,0,0), (2,0,0) ....,(6,5,0)\n",
    "# object point들을 미리 설정\n",
    "\n",
    "#objp = np.zeros((체스판 가로, 체스판 세로)) 배열 선언 및 초기화\n",
    "objp = np.zeros((4*6,3), np.float32)\n",
    "\n",
    "#objp의 모든행의 [0:2]인덱스 부분에 번호를 부여\n",
    "objp[:,:2] = np.mgrid[0:6,0:4].T.reshape(-1,2)\n",
    "\n",
    "# 모든 이미지에서 객체 포인트와 이미지 포인트를 저장하는 배열\n",
    "objpoints = [] # 실제 세상에서의 3d 포인트들을 넣을 배열\n",
    "imgpoints = [] # image plane에서의 2d 포인트들을 넣을 배열\n",
    "\n",
    "images = glob.glob('./*.jpg')\n",
    "\n",
    "for fname in images:\n",
    "    img = cv2.imread(fname)\n",
    "    \n",
    "    #흑백으로 변경\n",
    "    gray = cv2.cvtColor(img,cv2.COLOR_BGR2GRAY)\n",
    "    \n",
    "    # 체스보드 코너들을 찾는 부분\n",
    "    ret, corners = cv2.findChessboardCorners(gray, (6,4),None)\n",
    "    \n",
    "    # 만약, 찾았으면, objpoints, imgpoints에 추가\n",
    "    if ret == True:\n",
    "        objpoints.append(objp)\n",
    "        \n",
    "        #입력 영상 image에서 검출된 코너점 corners를 입력하여 코너점의 위치를 부화소 수준으로 다시 계산하여 반환한다.\n",
    "        \n",
    "        #cv2.cornerSubPix(image, corners, winSize, zeroZone, criteria)\n",
    "        corners2 = cv2.cornerSubPix(gray, corners, (11,11), (-1,-1), criteria)\n",
    "        imgpoints.append(corners2)\n",
    "        \n",
    "        # 검출한 코너들을 보여주는 부분, 현재, 응답오류로 인해서 제외시켰다.\n",
    "        img = cv2.drawChessboardCorners(img, (6,4), corners2,ret)\n",
    "        \n",
    "        img = cv2.resize(img, dsize=(640, 480), interpolation=cv2.INTER_AREA)\n",
    "\n",
    "        #cv2.imshow('img', img)\n",
    "        #cv2.waitKey(500)\n",
    "\n",
    "#cv2.destroyAllWindows()"
   ]
  },
  {
   "cell_type": "code",
   "execution_count": 2,
   "metadata": {},
   "outputs": [],
   "source": [
    "# 내부 파라미터 : camera calibration 결과, cameramatrix, 왜곡계수, 회전벡터, 병진벡터\n",
    "_, mtx, dist, rvecs, tvecs = cv2.calibrateCamera(objpoints, imgpoints, gray.shape[::-1],None,None)"
   ]
  },
  {
   "cell_type": "code",
   "execution_count": 3,
   "metadata": {},
   "outputs": [],
   "source": [
    "# 외부 파라미터 : pose estimation 결과, 회전벡터, 병진벡터\n",
    "_, rvec, tvec = cv2.solvePnP(objp, corners2, mtx, dist)"
   ]
  },
  {
   "cell_type": "code",
   "execution_count": 4,
   "metadata": {},
   "outputs": [],
   "source": [
    "# 회전벡터를 rotation Matrix 폼으로 변경\n",
    "rotM = cv2.Rodrigues(rvec)[0]"
   ]
  },
  {
   "cell_type": "code",
   "execution_count": 5,
   "metadata": {},
   "outputs": [
    {
     "name": "stdout",
     "output_type": "stream",
     "text": [
      "[[ 0.01434366  0.99981083  0.01313602]\n",
      " [-0.9964932   0.01321051  0.08262435]\n",
      " [ 0.08243519 -0.01427509  0.99649419]]\n"
     ]
    }
   ],
   "source": [
    "print(rotM)"
   ]
  },
  {
   "cell_type": "code",
   "execution_count": 6,
   "metadata": {},
   "outputs": [
    {
     "name": "stdout",
     "output_type": "stream",
     "text": [
      "[[-1.78668095]\n",
      " [ 0.99838461]\n",
      " [ 3.53263705]]\n"
     ]
    }
   ],
   "source": [
    "print(tvec)"
   ]
  },
  {
   "cell_type": "code",
   "execution_count": 7,
   "metadata": {},
   "outputs": [],
   "source": [
    "#4x4 Matrix형태로 변환\n",
    "A = np.hstack([rotM, tvec])\n",
    "A = np.vstack([A, [0, 0, 0, 1]])"
   ]
  },
  {
   "cell_type": "code",
   "execution_count": 8,
   "metadata": {},
   "outputs": [
    {
     "name": "stdout",
     "output_type": "stream",
     "text": [
      "[[ 0.01434366  0.99981083  0.01313602 -1.78668095]\n",
      " [-0.9964932   0.01321051  0.08262435  0.99838461]\n",
      " [ 0.08243519 -0.01427509  0.99649419  3.53263705]\n",
      " [ 0.          0.          0.          1.        ]]\n"
     ]
    }
   ],
   "source": [
    "print(A)"
   ]
  },
  {
   "cell_type": "code",
   "execution_count": 9,
   "metadata": {},
   "outputs": [
    {
     "name": "stdout",
     "output_type": "stream",
     "text": [
      "Base to TCP Px값을 입력하시오.1\n",
      "Base to TCP Py값을 입력하시오.2\n",
      "Base ti TCP Pz값을 입력하시오.3\n",
      "각도는 라디안 값입니까? Y/N10\n",
      "Robot Parameter의 Rx(yaw)값을 입력하시오.20\n",
      "Robot Parameter의 Ry(pitch)값을 입력하시오.30\n",
      "Robot Parameter의 Rz(Roll)값을 입력하시오.30\n",
      "[[ 0.02379351  0.26406028 -0.96421265  1.        ]\n",
      " [-0.15240531  1.03204621  0.25754923  2.        ]\n",
      " [ 0.98803162 -0.14082313  0.06294725  3.        ]\n",
      " [ 0.          0.          0.          1.        ]]\n"
     ]
    }
   ],
   "source": [
    "#로봇 파라미터부분\n",
    "B = np.zeros((4, 4))\n",
    "\n",
    "X = float(input(\"Base to TCP Px값을 입력하시오.\"))\n",
    "Y = float(input(\"Base to TCP Py값을 입력하시오.\"))\n",
    "Z = float(input(\"Base ti TCP Pz값을 입력하시오.\"))\n",
    "\n",
    "R = input(\"각도는 라디안 값입니까? Y/N\")\n",
    "\n",
    "if((R == \"Y\") or (R == \"y\")):\n",
    "    yaw = float(input(\"Robot Parameter의 Rx(yaw)값을 입력하시오.\"))\n",
    "    pitch = float(input(\"Robot Parameter의 Ry(pitch)값을 입력하시오.\"))\n",
    "    roll = float(input(\"Robot Parameter의 Rz(Roll)값을 입력하시오.\"))\n",
    "    \n",
    "    yaw = math.degrees(yaw)\n",
    "    pitch = math.degrees(pitch)\n",
    "    roll = math.degrees(roll)\n",
    "\n",
    "else:\n",
    "    yaw = float(input(\"Robot Parameter의 Rx(yaw)값을 입력하시오.\"))\n",
    "    pitch = float(input(\"Robot Parameter의 Ry(pitch)값을 입력하시오.\"))\n",
    "    roll = float(input(\"Robot Parameter의 Rz(Roll)값을 입력하시오.\"))\n",
    "\n",
    "B[0][0] = math.cos(roll)*math.cos(pitch)\n",
    "B[0][1] = math.cos(roll)*math.sin(pitch)*math.sin(yaw) - math.sin(roll)*math.cos(yaw)\n",
    "B[0][2] = math.cos(roll)*math.sin(pitch)*math.cos(yaw) + math.sin(roll)*math.sin(yaw)\n",
    "B[1][0] = math.sin(roll)*math.cos(pitch)\n",
    "B[1][1] = math.sin(roll)*math.sin(pitch)*math.sin(yaw) + math.cos(roll)*math.sin(yaw)\n",
    "B[1][2] = math.sin(roll)*math.sin(pitch)*math.cos(yaw) - math.cos(roll)*math.sin(yaw)\n",
    "B[2][0] = -math.sin(pitch)\n",
    "B[2][1] = -math.cos(pitch)*math.sin(yaw)\n",
    "B[2][2] = math.cos(pitch)*math.cos(yaw)\n",
    "\n",
    "B[0][3] = X\n",
    "B[1][3] = Y\n",
    "B[2][3] = Z\n",
    "B[3][3] = 1\n",
    "\n",
    "#B = np.matrix(B)\n",
    "\n",
    "print(B)"
   ]
  },
  {
   "cell_type": "code",
   "execution_count": 13,
   "metadata": {},
   "outputs": [
    {
     "name": "stdout",
     "output_type": "stream",
     "text": [
      "[[-0.00944985  0.15240531 -0.98803162 -0.          0.99981083  0.\n",
      "   0.          0.          0.01313602  0.          0.          0.        ]\n",
      " [-0.26406028 -1.01770254  0.14082313 -0.          0.          0.99981083\n",
      "   0.          0.          0.          0.01313602  0.          0.        ]\n",
      " [ 0.96421265 -0.25754923 -0.04860359 -0.98565634  0.          0.\n",
      "   0.99981083  0.          0.          0.          0.01313602  0.        ]\n",
      " [-1.         -2.         -3.         -0.98565634  0.          0.\n",
      "   0.          0.99981083  0.          0.          0.          0.01313602]\n",
      " [-0.9964932   0.          0.          0.         -0.010583    0.15240531\n",
      "  -0.98803162 -0.          0.08262435  0.          0.          0.        ]\n",
      " [ 0.         -0.9964932   0.          0.         -0.26406028 -1.0188357\n",
      "   0.14082313 -0.          0.          0.08262435  0.          0.        ]\n",
      " [ 0.          0.         -0.9964932   0.          0.96421265 -0.25754923\n",
      "  -0.04973674 -0.          0.          0.          0.08262435  0.        ]\n",
      " [ 0.          0.          0.         -0.9964932  -1.         -2.\n",
      "  -3.         -0.98678949  0.          0.          0.          0.08262435]\n",
      " [ 0.08243519  0.          0.          0.         -0.01427509  0.\n",
      "   0.          0.          0.97270068  0.15240531 -0.98803162 -0.        ]\n",
      " [ 0.          0.08243519  0.          0.          0.         -0.01427509\n",
      "   0.          0.         -0.26406028 -0.03555202  0.14082313 -0.        ]\n",
      " [ 0.          0.          0.08243519  0.          0.          0.\n",
      "  -0.01427509  0.          0.96421265 -0.25754923 -0.04860359 -0.        ]\n",
      " [ 0.          0.          0.          0.08243519  0.          0.\n",
      "   0.         -0.01427509 -1.         -2.         -3.         -0.98565634]]\n",
      "[[ 0.        ]\n",
      " [ 0.        ]\n",
      " [ 0.        ]\n",
      " [ 1.78668095]\n",
      " [ 0.        ]\n",
      " [ 0.        ]\n",
      " [ 0.        ]\n",
      " [-0.99838461]\n",
      " [ 0.        ]\n",
      " [ 0.        ]\n",
      " [ 0.        ]\n",
      " [-3.53263705]]\n"
     ]
    }
   ],
   "source": [
    "#AX = XB, 정확히는 AX + XB = C와 같은 형태의 Matrix 방정식을 실베스터 방정식이라고 한다. 다만, 이는 현재, 존재하는 Method가 없어, 직접 제작\n",
    "import sylvester\n",
    "D = sylvester.syl(A, B)\n",
    "\n",
    "print(D)\n",
    "\n",
    "F = np.zeros((12, 1))\n",
    "\n",
    "F[3] = -A[0][3]\n",
    "F[7] = -A[1][3]\n",
    "F[11] = -A[2][3]\n",
    "\n",
    "print(F)"
   ]
  },
  {
   "cell_type": "code",
   "execution_count": 11,
   "metadata": {},
   "outputs": [
    {
     "name": "stdout",
     "output_type": "stream",
     "text": [
      "[[-0.66733568]\n",
      " [-0.05892716]\n",
      " [-1.70394956]\n",
      " [ 1.9214532 ]\n",
      " [ 0.19307213]\n",
      " [-1.54384297]\n",
      " [ 1.49241224]\n",
      " [-2.25967953]\n",
      " [ 0.00818949]\n",
      " [ 0.18380325]\n",
      " [ 0.0456661 ]\n",
      " [ 3.25721566]]\n"
     ]
    }
   ],
   "source": [
    "X = np.linalg.solve(D, F)\n",
    "print(X)"
   ]
  },
  {
   "cell_type": "code",
   "execution_count": 12,
   "metadata": {},
   "outputs": [
    {
     "name": "stdout",
     "output_type": "stream",
     "text": [
      "[[-0.66733568 -0.05892716 -1.70394956  1.9214532 ]\n",
      " [ 0.19307213 -1.54384297  1.49241224 -2.25967953]\n",
      " [ 0.00818949  0.18380325  0.0456661   3.25721566]\n",
      " [ 0.          0.          0.          1.        ]]\n"
     ]
    }
   ],
   "source": [
    "Result = np.zeros((4, 4))\n",
    "\n",
    "k = 0\n",
    "\n",
    "for i in range(4):\n",
    "    for j in range(4):\n",
    "        if(k <=11):\n",
    "            Result[i][j] = X[k]\n",
    "        k = k + 1\n",
    "        \n",
    "Result[3][3] = 1\n",
    "print(Result)"
   ]
  }
 ],
 "metadata": {
  "kernelspec": {
   "display_name": "Python 3",
   "language": "python",
   "name": "python3"
  },
  "language_info": {
   "codemirror_mode": {
    "name": "ipython",
    "version": 3
   },
   "file_extension": ".py",
   "mimetype": "text/x-python",
   "name": "python",
   "nbconvert_exporter": "python",
   "pygments_lexer": "ipython3",
   "version": "3.7.7"
  }
 },
 "nbformat": 4,
 "nbformat_minor": 4
}
