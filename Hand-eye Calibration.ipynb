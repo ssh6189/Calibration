{
 "cells": [
  {
   "cell_type": "code",
   "execution_count": 1,
   "metadata": {},
   "outputs": [],
   "source": [
    "import numpy as np\n",
    "import cv2\n",
    "import glob\n",
    "import matplotlib.pyplot as plt\n",
    "import math\n",
    "\n",
    "# termination criteria\n",
    "# cv2.TERM_CRITERIA_EPS : 정해둔 오차범위내에 다다르면, 알고리즘을 멈춘다.\n",
    "# cv2.TERM_CRITERIA_MAX_ITER : 지정한 횟수에 다다르면, 알고리즘을 멈춘다.\n",
    "#(알고리즘 제동조건, 횟수, 오차범위)\n",
    "\n",
    "criteria = (cv2.TERM_CRITERIA_EPS + cv2.TERM_CRITERIA_MAX_ITER, 30, 0.01)\n",
    "# prepare object points, like (0,0,0), (1,0,0), (2,0,0) ....,(6,5,0)\n",
    "# object point들을 미리 설정\n",
    "\n",
    "#objp = np.zeros((체스판 가로, 체스판 세로)) 배열 선언 및 초기화\n",
    "objp = np.zeros((4*6,3), np.float32)\n",
    "\n",
    "#objp의 모든행의 [0:2]인덱스 부분에 번호를 부여\n",
    "objp[:,:2] = np.mgrid[0:6,0:4].T.reshape(-1,2)\n",
    "\n",
    "# 모든 이미지에서 객체 포인트와 이미지 포인트를 저장하는 배열\n",
    "objpoints = [] # 실제 세상에서의 3d 포인트들을 넣을 배열\n",
    "imgpoints = [] # image plane에서의 2d 포인트들을 넣을 배열\n",
    "\n",
    "images = glob.glob('./*.jpg')\n",
    "\n",
    "for fname in images:\n",
    "    img = cv2.imread(fname)\n",
    "    \n",
    "    #흑백으로 변경\n",
    "    gray = cv2.cvtColor(img,cv2.COLOR_BGR2GRAY)\n",
    "    \n",
    "    # 체스보드 코너들을 찾는 부분\n",
    "    ret, corners = cv2.findChessboardCorners(gray, (6,4),None)\n",
    "    \n",
    "    # 만약, 찾았으면, objpoints, imgpoints에 추가\n",
    "    \n",
    "    if ret == True:\n",
    "        objpoints.append(objp)\n",
    "        \n",
    "        #입력 영상 image에서 검출된 코너점 corners를 입력하여 코너점의 위치를 부화소 수준으로 다시 계산하여 반환한다.\n",
    "        \n",
    "        #cv2.cornerSubPix(image, corners, winSize, zeroZone, criteria)\n",
    "        corners2 = cv2.cornerSubPix(gray, corners, (11,11), (-1,-1), criteria)\n",
    "        imgpoints.append(corners2)\n",
    "        \n",
    "        # 검출한 코너들을 보여주는 부분, 현재, 응답오류로 인해서 제외시켰다.\n",
    "        img = cv2.drawChessboardCorners(img, (6,4), corners2,ret)\n",
    "        \n",
    "        img = cv2.resize(img, dsize=(640, 480), interpolation=cv2.INTER_AREA)\n",
    "\n",
    "        #cv2.imshow('img', img)\n",
    "        #cv2.waitKey(500)\n",
    "\n",
    "#cv2.destroyAllWindows()"
   ]
  },
  {
   "cell_type": "code",
   "execution_count": 2,
   "metadata": {},
   "outputs": [],
   "source": [
    "# 내부 파라미터, cameramatrix, 왜곡계수, 회전벡터, 병진벡터\n",
    "ret, mtx, dist, rvecs, tvecs = cv2.calibrateCamera(objpoints, imgpoints, gray.shape[::-1],None,None)"
   ]
  },
  {
   "cell_type": "code",
   "execution_count": 3,
   "metadata": {},
   "outputs": [],
   "source": [
    "# 외부 파라미터, 회전벡터, 병진벡터\n",
    "ret, rvec, tvec = cv2.solvePnP(objp, corners2, mtx, dist)"
   ]
  },
  {
   "cell_type": "code",
   "execution_count": 4,
   "metadata": {},
   "outputs": [],
   "source": [
    "# 회전벡터를 rotation Matrix 폼으로 변경\n",
    "rotM = cv2.Rodrigues(rvec)[0]"
   ]
  },
  {
   "cell_type": "code",
   "execution_count": 5,
   "metadata": {},
   "outputs": [
    {
     "name": "stdout",
     "output_type": "stream",
     "text": [
      "[[ 0.01434366  0.99981083  0.01313602]\n",
      " [-0.9964932   0.01321051  0.08262435]\n",
      " [ 0.08243519 -0.01427509  0.99649419]]\n"
     ]
    }
   ],
   "source": [
    "print(rotM)"
   ]
  },
  {
   "cell_type": "code",
   "execution_count": 6,
   "metadata": {},
   "outputs": [
    {
     "name": "stdout",
     "output_type": "stream",
     "text": [
      "[[-1.78668095]\n",
      " [ 0.99838461]\n",
      " [ 3.53263705]]\n"
     ]
    }
   ],
   "source": [
    "print(tvec)"
   ]
  },
  {
   "cell_type": "code",
   "execution_count": 7,
   "metadata": {},
   "outputs": [],
   "source": [
    "#4x4 Matrix형태로 변환\n",
    "A = np.hstack([rotM, tvec])\n",
    "A = np.vstack([A, [0, 0, 0, 1]])"
   ]
  },
  {
   "cell_type": "code",
   "execution_count": 8,
   "metadata": {},
   "outputs": [
    {
     "name": "stdout",
     "output_type": "stream",
     "text": [
      "[[ 0.01434366  0.99981083  0.01313602 -1.78668095]\n",
      " [-0.9964932   0.01321051  0.08262435  0.99838461]\n",
      " [ 0.08243519 -0.01427509  0.99649419  3.53263705]\n",
      " [ 0.          0.          0.          1.        ]]\n"
     ]
    }
   ],
   "source": [
    "print(A)"
   ]
  },
  {
   "cell_type": "code",
   "execution_count": 9,
   "metadata": {},
   "outputs": [
    {
     "name": "stdout",
     "output_type": "stream",
     "text": [
      "Base to TCP Px값을 입력하시오.3\n",
      "Base to TCP Py값을 입력하시오.4\n",
      "Base ti TCP Pz값을 입력하시오.5\n",
      "각도는 라디안 값입니까? Y/Ny\n",
      "Robot Parameter의 Rx(yaw)값을 입력하시오.30\n",
      "Robot Parameter의 Ry(pitch)값을 입력하시오.40\n",
      "Robot Parameter의 Rz(Roll)값을 입력하시오.50\n",
      "[[ 0.03703169  0.07829979  0.99624184  3.        ]\n",
      " [-0.01324651 -0.52373776  0.07883601  4.        ]\n",
      " [ 0.99922629  0.01611615 -0.03587598  5.        ]\n",
      " [ 0.          0.          0.          1.        ]]\n"
     ]
    }
   ],
   "source": [
    "#로봇 파라미터부분\n",
    "B = np.zeros((4, 4))\n",
    "\n",
    "X = float(input(\"Base to TCP Px값을 입력하시오.\"))\n",
    "Y = float(input(\"Base to TCP Py값을 입력하시오.\"))\n",
    "Z = float(input(\"Base ti TCP Pz값을 입력하시오.\"))\n",
    "\n",
    "R = input(\"각도는 라디안 값입니까? Y/N\")\n",
    "\n",
    "if((R == \"Y\") or (R == \"y\")):\n",
    "    yaw = float(input(\"Robot Parameter의 Rx(yaw)값을 입력하시오.\"))\n",
    "    pitch = float(input(\"Robot Parameter의 Ry(pitch)값을 입력하시오.\"))\n",
    "    roll = float(input(\"Robot Parameter의 Rz(Roll)값을 입력하시오.\"))\n",
    "    \n",
    "    yaw = math.degrees(yaw)\n",
    "    pitch = math.degrees(pitch)\n",
    "    roll = math.degrees(roll)\n",
    "\n",
    "else:\n",
    "    yaw = float(input(\"Robot Parameter의 Rx(yaw)값을 입력하시오.\"))\n",
    "    pitch = float(input(\"Robot Parameter의 Ry(pitch)값을 입력하시오.\"))\n",
    "    roll = float(input(\"Robot Parameter의 Rz(Roll)값을 입력하시오.\"))\n",
    "\n",
    "B[0][0] = math.cos(roll)*math.cos(pitch)\n",
    "B[0][1] = math.cos(roll)*math.sin(pitch)*math.sin(yaw) - math.sin(roll)*math.cos(yaw)\n",
    "B[0][2] = math.cos(roll)*math.sin(pitch)*math.cos(yaw) + math.sin(roll)*math.sin(yaw)\n",
    "B[1][0] = math.sin(roll)*math.cos(pitch)\n",
    "B[1][1] = math.sin(roll)*math.sin(pitch)*math.sin(yaw) + math.cos(roll)*math.sin(yaw)\n",
    "B[1][2] = math.sin(roll)*math.sin(pitch)*math.cos(yaw) - math.cos(roll)*math.sin(yaw)\n",
    "B[2][0] = -math.sin(pitch)\n",
    "B[2][1] = -math.cos(pitch)*math.sin(yaw)\n",
    "B[2][2] = math.cos(pitch)*math.cos(yaw)\n",
    "\n",
    "B[0][3] = X\n",
    "B[1][3] = Y\n",
    "B[2][3] = Z\n",
    "B[3][3] = 1\n",
    "\n",
    "#B = np.matrix(B)\n",
    "\n",
    "print(B)"
   ]
  },
  {
   "cell_type": "code",
   "execution_count": 10,
   "metadata": {},
   "outputs": [
    {
     "name": "stdout",
     "output_type": "stream",
     "text": [
      "[[-0.02268803  0.01324651 -0.99922629 -0.          0.99981083  0.\n",
      "   0.          0.          0.01313602  0.          0.          0.        ]\n",
      " [-0.07829979  0.53808142 -0.01611615 -0.          0.          0.99981083\n",
      "   0.          0.          0.          0.01313602  0.          0.        ]\n",
      " [-0.99624184 -0.07883601  0.05021964 -0.98565634  0.          0.\n",
      "   0.99981083  0.          0.          0.          0.01313602  0.        ]\n",
      " [-3.         -4.         -5.         -0.98565634  0.          0.\n",
      "   0.          0.99981083  0.          0.          0.          0.01313602]\n",
      " [-0.9964932   0.          0.          0.         -0.02382119  0.01324651\n",
      "  -0.99922629 -0.          0.08262435  0.          0.          0.        ]\n",
      " [ 0.         -0.9964932   0.          0.         -0.07829979  0.53694826\n",
      "  -0.01611615 -0.          0.          0.08262435  0.          0.        ]\n",
      " [ 0.          0.         -0.9964932   0.         -0.99624184 -0.07883601\n",
      "   0.04908648 -0.          0.          0.          0.08262435  0.        ]\n",
      " [ 0.          0.          0.         -0.9964932  -3.         -4.\n",
      "  -5.         -0.98678949  0.          0.          0.          0.08262435]\n",
      " [ 0.08243519  0.          0.          0.         -0.01427509  0.\n",
      "   0.          0.          0.95946249  0.01324651 -0.99922629 -0.        ]\n",
      " [ 0.          0.08243519  0.          0.          0.         -0.01427509\n",
      "   0.          0.         -0.07829979  1.52023194 -0.01611615 -0.        ]\n",
      " [ 0.          0.          0.08243519  0.          0.          0.\n",
      "  -0.01427509  0.         -0.99624184 -0.07883601  0.05021964 -0.        ]\n",
      " [ 0.          0.          0.          0.08243519  0.          0.\n",
      "   0.         -0.01427509 -3.         -4.         -5.         -0.98565634]]\n",
      "[[ 0.        ]\n",
      " [ 0.        ]\n",
      " [ 0.        ]\n",
      " [ 1.78668095]\n",
      " [ 0.        ]\n",
      " [ 0.        ]\n",
      " [ 0.        ]\n",
      " [-0.99838461]\n",
      " [ 0.        ]\n",
      " [ 0.        ]\n",
      " [ 0.        ]\n",
      " [-3.53263705]]\n"
     ]
    }
   ],
   "source": [
    "#AX = XB의 형태의 Matrix 방정식을 실베스터 방정식이라고 한다. 다만, 이는 현재, 존재하는 Method가 없어, 직접 제작\n",
    "D = np.zeros((12, 12))\n",
    "\n",
    "D[0][0] = A[0][0] - B[0][0]\n",
    "D[0][1] = -B[1][0]\n",
    "D[0][2] = -B[2][0]\n",
    "D[0][3] = -B[3][0]\n",
    "D[0][4] = A[0][1]\n",
    "D[0][8] = A[0][2]\n",
    "\n",
    "D[1][0] = -B[0][1]\n",
    "D[1][1] = A[0][0] - B[1][1]\n",
    "D[1][2] = -B[2][1]\n",
    "D[1][3] = -B[3][1]\n",
    "D[1][5] = A[0][1]\n",
    "D[1][9] = A[0][2]\n",
    "\n",
    "D[2][0] = -B[0][2]\n",
    "D[2][1] = -B[1][2]\n",
    "D[2][2] = A[0][0] - B[2][2]\n",
    "D[2][3] = A[0][0] - B[3][3]\n",
    "D[2][6] = A[0][1]\n",
    "D[2][10]= A[0][2]\n",
    "\n",
    "D[3][0] = -B[0][3]\n",
    "D[3][1] = -B[1][3]\n",
    "D[3][2] = -B[2][3]\n",
    "D[3][3] = A[0][0] - B[3][3]\n",
    "D[3][7] = A[0][1]\n",
    "D[3][11] = A[0][2]\n",
    "\n",
    "D[4][0] = A[1][0]\n",
    "D[4][4] = A[1][1] - B[0][0]\n",
    "D[4][5] = -B[1][0]\n",
    "D[4][6] = -B[2][0]\n",
    "D[4][7] = -B[3][0]\n",
    "D[4][8] = A[1][2]\n",
    "\n",
    "D[5][1] = A[1][0]\n",
    "D[5][4] = -B[0][1]\n",
    "D[5][5] = A[1][1] - B[1][1]\n",
    "D[5][6] = -B[2][1]\n",
    "D[5][7] = -B[3][1]\n",
    "D[5][9] = A[1][2]\n",
    "\n",
    "D[6][2] = A[1][0]\n",
    "D[6][4] = -B[0][2]\n",
    "D[6][5] = -B[1][2]\n",
    "D[6][6] = A[1][1] - B[2][2]\n",
    "D[6][7] = -B[3][2]\n",
    "D[6][10] = A[1][2]\n",
    "\n",
    "D[7][3] = A[1][0]\n",
    "D[7][4] = -B[0][3]\n",
    "D[7][5] = -B[1][3]\n",
    "D[7][6] = -B[2][3]\n",
    "D[7][7] = A[1][1] - B[3][3]\n",
    "D[7][11] = A[1][2]\n",
    "\n",
    "D[8][0] = A[2][0]\n",
    "D[8][4] = A[2][1]\n",
    "D[8][8] = A[2][2] - B[0][0]\n",
    "D[8][9] = -B[1][0]\n",
    "D[8][10] = -B[2][0]\n",
    "D[8][11] = -B[3][0]\n",
    "\n",
    "D[9][1] = A[2][0]\n",
    "D[9][5] = A[2][1]\n",
    "D[9][8] = -B[0][1]\n",
    "D[9][9] = A[2][2] - B[1][1]\n",
    "D[9][10] = -B[2][1]\n",
    "D[9][11] = -B[3][1]\n",
    "\n",
    "D[10][2] = A[2][0]\n",
    "D[10][6] = A[2][1]\n",
    "D[10][8] = -B[0][2]\n",
    "D[10][9] = -B[1][2]\n",
    "D[10][10] = A[0][0] - B[2][2]\n",
    "D[10][11] = -B[3][2]\n",
    "\n",
    "D[11][3] = A[2][0]\n",
    "D[11][7] = A[2][1]\n",
    "D[11][8] = -B[0][3]\n",
    "D[11][9] = -B[1][3]\n",
    "D[11][10] = -B[2][3]\n",
    "D[11][11] = A[0][0] - B[3][3]\n",
    "\n",
    "print(D)\n",
    "\n",
    "F = np.zeros((12, 1))\n",
    "\n",
    "F[3] = -A[0][3]\n",
    "F[7] = -A[1][3]\n",
    "F[11] = -A[2][3]\n",
    "\n",
    "print(F)"
   ]
  },
  {
   "cell_type": "code",
   "execution_count": 11,
   "metadata": {},
   "outputs": [
    {
     "name": "stdout",
     "output_type": "stream",
     "text": [
      "[[ 7.40613989e-02]\n",
      " [ 3.38172833e-03]\n",
      " [-2.47911291e-03]\n",
      " [-1.49899907e-01]\n",
      " [-8.57856188e-04]\n",
      " [ 3.94022088e-03]\n",
      " [-7.36853594e-02]\n",
      " [ 1.81655486e+00]\n",
      " [ 1.21880051e-03]\n",
      " [-6.29385414e-06]\n",
      " [ 7.29246357e-03]\n",
      " [ 3.50452269e+00]]\n"
     ]
    }
   ],
   "source": [
    "X = np.linalg.solve(D, F)\n",
    "print(X)"
   ]
  },
  {
   "cell_type": "code",
   "execution_count": 12,
   "metadata": {},
   "outputs": [
    {
     "name": "stdout",
     "output_type": "stream",
     "text": [
      "[[ 7.40613989e-02  3.38172833e-03 -2.47911291e-03 -1.49899907e-01]\n",
      " [-8.57856188e-04  3.94022088e-03 -7.36853594e-02  1.81655486e+00]\n",
      " [ 1.21880051e-03 -6.29385414e-06  7.29246357e-03  3.50452269e+00]\n",
      " [ 0.00000000e+00  0.00000000e+00  0.00000000e+00  1.00000000e+00]]\n"
     ]
    }
   ],
   "source": [
    "Result = np.zeros((4, 4))\n",
    "\n",
    "k = 0\n",
    "\n",
    "for i in range(4):\n",
    "    for j in range(4):\n",
    "        if(k <=11):\n",
    "            Result[i][j] = X[k]\n",
    "        k = k + 1\n",
    "        \n",
    "Result[3][3] = 1\n",
    "print(Result)"
   ]
  }
 ],
 "metadata": {
  "kernelspec": {
   "display_name": "Python 3",
   "language": "python",
   "name": "python3"
  },
  "language_info": {
   "codemirror_mode": {
    "name": "ipython",
    "version": 3
   },
   "file_extension": ".py",
   "mimetype": "text/x-python",
   "name": "python",
   "nbconvert_exporter": "python",
   "pygments_lexer": "ipython3",
   "version": "3.7.7"
  }
 },
 "nbformat": 4,
 "nbformat_minor": 4
}
